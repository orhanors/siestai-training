{
 "cells": [
  {
   "cell_type": "code",
   "execution_count": null,
   "metadata": {},
   "outputs": [],
   "source": [
    "from app.knowledge_graph.kg import ingest_Chunks, embed_text, create_nodes, create_relationship, create_vector_index\n",
    "from app.knowledge_graph.kg_chucking import split_data_from_file\n",
    "from app.knowledge_graph.kg_config import load_neo4j_graph\n",
    "import json\n",
    "graph, openAI_api, openAI_endpoint = load_neo4j_graph()"
   ]
  },
  {
   "cell_type": "code",
   "execution_count": null,
   "metadata": {},
   "outputs": [],
   "source": [
    "file_names = [\"Talleyrand\", \"Napoleon\", \"Battle_of_Waterloo\"]\n",
    "\n",
    "for name in file_names:\n",
    "    #  Load JSON file\n",
    "    file = f\"data/{name}.json\"\n",
    "    # Chunking\n",
    "    chunks = split_data_from_file(file)\n",
    "    # Assuming `file` is a path to your JSON file\n",
    "    with open(file, 'r', encoding='utf-8') as f:\n",
    "        data = json.load(f)\n",
    "\n",
    "    if name == \"Battle_of_Waterloo\":\n",
    "        create_nodes(graph=graph, data=data, node_label=\"Event\", node_name=name)\n",
    "    else:\n",
    "        create_nodes(graph=graph, data=data, node_label=\"Person\", node_name=name)\n",
    "    # Ingest Chunks\n",
    "    ingest_Chunks(graph=graph, chunks=chunks, node_name=name, node_label='Chunk')"
   ]
  },
  {
   "cell_type": "markdown",
   "metadata": {},
   "source": []
  },
  {
   "cell_type": "code",
   "execution_count": null,
   "metadata": {},
   "outputs": [],
   "source": [
    "# Create relationship\n",
    "rel_section_chunk = \"\"\" \n",
    "MATCH (s:Section), (c:Chunk)\n",
    "WHERE s.type = c.source AND s.parent_name = c.node_name\n",
    "MERGE (s)-[:HAS_CHUNK]->(c);\n",
    "\n",
    "\"\"\"\n",
    "\n",
    "rel_person_person = \"\"\"\n",
    "MATCH (p1:Person), (p2:Person)\n",
    "WHERE id(p1) < id(p2)\n",
    "MERGE (p1)-[:RELATED_TO]->(p2)\n",
    "MERGE (p2)-[:RELATED_TO]->(p1);\n",
    "\n",
    "\"\"\"\n",
    "\n",
    "rel_person_event = \"\"\"\n",
    "MATCH (p:Person), (e:Event)\n",
    "MERGE (p)-[:RELATED_TO]->(e)\n",
    "MERGE (e)-[:RELATED_TO]->(p);\n",
    "\n",
    "\"\"\"\n",
    "\n",
    "rel_person_section = \"\"\"\n",
    "MATCH (p:Person), (s:Section)\n",
    "WHERE p.name = s.parent_name\n",
    "MERGE (p)-[:HAS_SECTION]->(s);\n",
    "\n",
    "\"\"\"\n",
    "\n",
    "rel_event_section = \"\"\"\n",
    "MATCH (e:Event), (s:Section)\n",
    "WHERE e.name = s.parent_name\n",
    "MERGE (e)-[:HAS_SECTION]->(s);\n",
    "\n",
    "\"\"\"\n",
    "\n",
    "queries = [rel_section_chunk, rel_person_person, rel_person_event, rel_person_section, rel_event_section]\n",
    "\n",
    "for query in queries:\n",
    "    create_relationship(graph=graph, query=query)"
   ]
  }
 ],
 "metadata": {
  "language_info": {
   "name": "python"
  }
 },
 "nbformat": 4,
 "nbformat_minor": 5
}
